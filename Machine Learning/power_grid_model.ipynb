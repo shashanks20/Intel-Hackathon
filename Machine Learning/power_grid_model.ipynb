{
 "cells": [
  {
   "cell_type": "markdown",
   "id": "d7220249-a691-4f7b-83f4-509f36936f75",
   "metadata": {},
   "source": [
    "<h1>Installing necessary Libraries</h1>"
   ]
  },
  {
   "cell_type": "code",
   "execution_count": 1,
   "id": "7e035c6c-4cf5-4172-8f72-0fd89575e60a",
   "metadata": {},
   "outputs": [
    {
     "name": "stdout",
     "output_type": "stream",
     "text": [
      "Defaulting to user installation because normal site-packages is not writeable\n",
      "Requirement already satisfied: scikit-learn-intelex in ./.local/lib/python3.9/site-packages (2024.2.0)\n",
      "Requirement already satisfied: daal4py==2024.2.0 in ./.local/lib/python3.9/site-packages (from scikit-learn-intelex) (2024.2.0)\n",
      "Requirement already satisfied: scikit-learn>=0.22 in /glob/development-tools/versions/oneapi/2024.0.2.1/oneapi/intelpython/lib/python3.9/site-packages (from scikit-learn-intelex) (1.3.1)\n",
      "Requirement already satisfied: daal==2024.2.0 in ./.local/lib/python3.9/site-packages (from daal4py==2024.2.0->scikit-learn-intelex) (2024.2.0)\n",
      "Requirement already satisfied: numpy>=1.19 in /glob/development-tools/versions/oneapi/2024.0.2.1/oneapi/intelpython/lib/python3.9/site-packages (from daal4py==2024.2.0->scikit-learn-intelex) (1.24.3)\n",
      "Requirement already satisfied: tbb==2021.* in ./.local/lib/python3.9/site-packages (from daal==2024.2.0->daal4py==2024.2.0->scikit-learn-intelex) (2021.12.0)\n",
      "Requirement already satisfied: scipy>=1.5.0 in /glob/development-tools/versions/oneapi/2024.0.2.1/oneapi/intelpython/lib/python3.9/site-packages (from scikit-learn>=0.22->scikit-learn-intelex) (1.10.1)\n",
      "Requirement already satisfied: joblib>=1.1.1 in /glob/development-tools/versions/oneapi/2024.0.2.1/oneapi/intelpython/lib/python3.9/site-packages (from scikit-learn>=0.22->scikit-learn-intelex) (1.3.2)\n",
      "Requirement already satisfied: threadpoolctl>=2.0.0 in /glob/development-tools/versions/oneapi/2024.0.2.1/oneapi/intelpython/lib/python3.9/site-packages (from scikit-learn>=0.22->scikit-learn-intelex) (3.2.0)\n",
      "Note: you may need to restart the kernel to use updated packages.\n"
     ]
    }
   ],
   "source": [
    "pip install scikit-learn-intelex\n"
   ]
  },
  {
   "cell_type": "code",
   "execution_count": 2,
   "id": "42baef53-a054-4206-a26d-ffc24fc3b4b1",
   "metadata": {},
   "outputs": [
    {
     "name": "stderr",
     "output_type": "stream",
     "text": [
      "Intel(R) Extension for Scikit-learn* enabled (https://github.com/intel/scikit-learn-intelex)\n"
     ]
    }
   ],
   "source": [
    "from sklearnex import patch_sklearn\n",
    "patch_sklearn()"
   ]
  },
  {
   "cell_type": "code",
   "execution_count": 3,
   "id": "38d8b847-f114-40ae-a51e-b504a618aa80",
   "metadata": {},
   "outputs": [
    {
     "name": "stdout",
     "output_type": "stream",
     "text": [
      "/bin/bash: /glob/intel-python/python2/bin/pip: /glob/intel-python/versions/2018u2/intelpython2/bin/python: bad interpreter: No such file or directory\n"
     ]
    }
   ],
   "source": [
    "!pip install modin[ray]"
   ]
  },
  {
   "cell_type": "code",
   "execution_count": 4,
   "id": "89a8d3db-6475-42ab-9c5f-790bb83011e5",
   "metadata": {},
   "outputs": [],
   "source": [
    "from sklearn.preprocessing import StandardScaler\n",
    "from sklearn.impute import SimpleImputer"
   ]
  },
  {
   "cell_type": "code",
   "execution_count": 5,
   "id": "ae99ae00-b077-4772-b9b3-7c9b6dfe867b",
   "metadata": {},
   "outputs": [],
   "source": [
    "import warnings\n",
    "from sklearn.exceptions import DataConversionWarning\n",
    "\n",
    "# Suppress the warning\n",
    "warnings.filterwarnings(action='ignore', category=UserWarning)\n"
   ]
  },
  {
   "cell_type": "markdown",
   "id": "51db6331-4b02-4115-a9aa-fa230263c42a",
   "metadata": {},
   "source": [
    "<h1>Data Pre-Processing</h1>"
   ]
  },
  {
   "cell_type": "code",
   "execution_count": 6,
   "id": "77c8ed9f-34a5-4943-9b11-f625446d2a17",
   "metadata": {},
   "outputs": [],
   "source": [
    "import os\n",
    "os.environ[\"MODIN_ENGINE\"] = \"ray\"  # Specify the engine you want to use (e.g., \"ray\", \"dask\", or \"native\")\n",
    "\n",
    "import pandas as pd"
   ]
  },
  {
   "cell_type": "code",
   "execution_count": 7,
   "id": "09aa00e3-acaf-43bf-bf37-2c0651deee59",
   "metadata": {},
   "outputs": [],
   "source": [
    "data = pd.read_csv('Final_data.csv')"
   ]
  },
  {
   "cell_type": "code",
   "execution_count": 8,
   "id": "f7cc2af7-31c3-420e-92d5-c7895754cccb",
   "metadata": {},
   "outputs": [
    {
     "name": "stdout",
     "output_type": "stream",
     "text": [
      "<bound method NDFrame.head of            Temp_K  pressure_hPa  humidity_percent  cloudiness_percent  \\\n",
      "0      305.136748   1007.668578                77                  81   \n",
      "1      306.632430    998.016072                45                  19   \n",
      "2      311.196136    988.736740                10                  26   \n",
      "3      287.436201    981.742594                30                  90   \n",
      "4      304.757082   1000.575716                28                  19   \n",
      "...           ...           ...               ...                 ...   \n",
      "99603  292.819616   1013.101585                11                  17   \n",
      "99604  280.929076   1010.173871                75                  56   \n",
      "99605  300.973695    999.634586                33                  45   \n",
      "99606  297.390506   1026.954822                30                  52   \n",
      "99607  280.468139   1007.610720                88                  25   \n",
      "\n",
      "       sea_level_hPa  grnd_level_hPa  visibility_km  wind_speed_m_sec  \\\n",
      "0         954.372246     1021.889085      10.480379          3.799810   \n",
      "1        1012.982118      998.411000      16.051354         25.905855   \n",
      "2         956.396651     1018.965530      29.658817         24.782610   \n",
      "3         983.988918      997.641400      22.893604         37.336499   \n",
      "4         960.823766      975.733222       8.360576         43.033714   \n",
      "...              ...             ...            ...               ...   \n",
      "99603    1029.270922      970.494358      23.947437         19.535539   \n",
      "99604    1013.579730     1028.112688       1.627375         48.461543   \n",
      "99605     974.271053     1003.193781      24.589207         18.515266   \n",
      "99606     960.838588      994.284506      28.096407          1.850919   \n",
      "99607     993.666785      990.641518      29.898930         49.382851   \n",
      "\n",
      "       rain_volume_mm  snow_volume_mm           State    Substation  \\\n",
      "0           66.021771        2.891291          Kerala  TRISSUR HVDC   \n",
      "1           61.885144        3.748578      Tamil Nadu         SALEM   \n",
      "2           28.065332        4.622073       Karnataka        MYSORE   \n",
      "3           26.855636        3.764864       Karnataka       RAICHUR   \n",
      "4            9.948649        4.200703      Tamil Nadu         HOSUR   \n",
      "...               ...             ...             ...           ...   \n",
      "99603       94.021017        4.177869       Karnataka       RAICHUR   \n",
      "99604       76.895227        4.945975      Tamil Nadu         HOSUR   \n",
      "99605       76.955028        4.833557  Andhra Pradesh    SRIKAKULAM   \n",
      "99606       33.408153        3.251165      Tamil Nadu         SALEM   \n",
      "99607       27.951167        3.525330       Karnataka       RAICHUR   \n",
      "\n",
      "      Type (AIS/ GIS)  Risk  \n",
      "0                 AIS     1  \n",
      "1                 AIS     1  \n",
      "2                 AIS     1  \n",
      "3                 AIS     0  \n",
      "4                 AIS     1  \n",
      "...               ...   ...  \n",
      "99603             AIS     1  \n",
      "99604             AIS     1  \n",
      "99605             GIS     0  \n",
      "99606             AIS     1  \n",
      "99607             AIS     1  \n",
      "\n",
      "[99608 rows x 14 columns]>\n",
      " ---------------------------------------------- \n",
      "             Temp_K  pressure_hPa  humidity_percent  cloudiness_percent  \\\n",
      "count  99608.000000  99608.000000      99608.000000        99608.000000   \n",
      "mean     299.989920   1007.562401         49.508614           49.330777   \n",
      "std       11.573428     15.906919         28.899460           28.901260   \n",
      "min      280.000091    980.000600          0.000000            0.000000   \n",
      "25%      289.939633    993.720180         25.000000           24.000000   \n",
      "50%      299.872174   1007.613476         49.000000           49.000000   \n",
      "75%      310.023090   1021.333483         75.000000           74.000000   \n",
      "max      319.997432   1034.999131         99.000000           99.000000   \n",
      "\n",
      "       sea_level_hPa  grnd_level_hPa  visibility_km  wind_speed_m_sec  \\\n",
      "count   99608.000000    99608.000000   99608.000000      99608.000000   \n",
      "mean      995.051443      999.989702      15.489985         30.031472   \n",
      "std        25.946450       23.059666       8.372312         17.296169   \n",
      "min       950.001936      960.000041       1.000659          0.002693   \n",
      "25%       972.620449      980.075988       8.252644         15.118136   \n",
      "50%       995.223375      999.851220      15.467844         29.997467   \n",
      "75%      1017.431975     1019.965178      22.759042         44.978659   \n",
      "max      1039.999848     1039.999155      29.999853         59.999402   \n",
      "\n",
      "       rain_volume_mm  snow_volume_mm          Risk  \n",
      "count    99608.000000    99608.000000  99608.000000  \n",
      "mean        50.175169        2.497858      0.499157  \n",
      "std         28.909332        1.442604      0.500002  \n",
      "min          0.000083        0.000013      0.000000  \n",
      "25%         25.047454        1.242992      0.000000  \n",
      "50%         50.366427        2.499761      0.000000  \n",
      "75%         75.254493        3.742092      1.000000  \n",
      "max         99.999282        4.999956      1.000000  \n"
     ]
    }
   ],
   "source": [
    "print(data.head)\n",
    "print(\" ---------------------------------------------- \")\n",
    "print(data.describe())"
   ]
  },
  {
   "cell_type": "code",
   "execution_count": 9,
   "id": "109bec10-6e99-4115-a911-095315c8b193",
   "metadata": {},
   "outputs": [
    {
     "data": {
      "text/plain": [
       "Temp_K                0\n",
       "pressure_hPa          0\n",
       "humidity_percent      0\n",
       "cloudiness_percent    0\n",
       "sea_level_hPa         0\n",
       "grnd_level_hPa        0\n",
       "visibility_km         0\n",
       "wind_speed_m_sec      0\n",
       "rain_volume_mm        0\n",
       "snow_volume_mm        0\n",
       "State                 0\n",
       "Substation            0\n",
       "Type (AIS/ GIS)       0\n",
       "Risk                  0\n",
       "dtype: int64"
      ]
     },
     "execution_count": 9,
     "metadata": {},
     "output_type": "execute_result"
    }
   ],
   "source": [
    "data.isnull().sum()   #check if any null value"
   ]
  },
  {
   "cell_type": "code",
   "execution_count": 10,
   "id": "d6640104-88e6-4c69-9a57-e3d6d9935f1d",
   "metadata": {},
   "outputs": [
    {
     "data": {
      "text/plain": [
       "Index(['Temp_K', 'pressure_hPa', 'humidity_percent', 'cloudiness_percent',\n",
       "       'sea_level_hPa', 'grnd_level_hPa', 'visibility_km', 'wind_speed_m_sec',\n",
       "       'rain_volume_mm', 'snow_volume_mm', 'State', 'Substation',\n",
       "       'Type (AIS/ GIS)', 'Risk'],\n",
       "      dtype='object')"
      ]
     },
     "execution_count": 10,
     "metadata": {},
     "output_type": "execute_result"
    }
   ],
   "source": [
    "data.columns"
   ]
  },
  {
   "cell_type": "code",
   "execution_count": 11,
   "id": "6a445f6b-65ca-42dd-9129-e7444b17666a",
   "metadata": {},
   "outputs": [
    {
     "data": {
      "text/html": [
       "<div>\n",
       "<style scoped>\n",
       "    .dataframe tbody tr th:only-of-type {\n",
       "        vertical-align: middle;\n",
       "    }\n",
       "\n",
       "    .dataframe tbody tr th {\n",
       "        vertical-align: top;\n",
       "    }\n",
       "\n",
       "    .dataframe thead th {\n",
       "        text-align: right;\n",
       "    }\n",
       "</style>\n",
       "<table border=\"1\" class=\"dataframe\">\n",
       "  <thead>\n",
       "    <tr style=\"text-align: right;\">\n",
       "      <th></th>\n",
       "      <th>Temp_K</th>\n",
       "      <th>pressure_hPa</th>\n",
       "      <th>humidity_percent</th>\n",
       "      <th>cloudiness_percent</th>\n",
       "      <th>sea_level_hPa</th>\n",
       "      <th>grnd_level_hPa</th>\n",
       "      <th>visibility_km</th>\n",
       "      <th>wind_speed_m_sec</th>\n",
       "      <th>rain_volume_mm</th>\n",
       "      <th>snow_volume_mm</th>\n",
       "      <th>State</th>\n",
       "      <th>Substation</th>\n",
       "      <th>Type (AIS/ GIS)</th>\n",
       "      <th>Risk</th>\n",
       "    </tr>\n",
       "  </thead>\n",
       "  <tbody>\n",
       "    <tr>\n",
       "      <th>0</th>\n",
       "      <td>305.136748</td>\n",
       "      <td>1007.668578</td>\n",
       "      <td>77</td>\n",
       "      <td>81</td>\n",
       "      <td>954.372246</td>\n",
       "      <td>1021.889085</td>\n",
       "      <td>10.480379</td>\n",
       "      <td>3.799810</td>\n",
       "      <td>66.021771</td>\n",
       "      <td>2.891291</td>\n",
       "      <td>Kerala</td>\n",
       "      <td>TRISSUR HVDC</td>\n",
       "      <td>AIS</td>\n",
       "      <td>1</td>\n",
       "    </tr>\n",
       "    <tr>\n",
       "      <th>1</th>\n",
       "      <td>306.632430</td>\n",
       "      <td>998.016072</td>\n",
       "      <td>45</td>\n",
       "      <td>19</td>\n",
       "      <td>1012.982118</td>\n",
       "      <td>998.411000</td>\n",
       "      <td>16.051354</td>\n",
       "      <td>25.905855</td>\n",
       "      <td>61.885144</td>\n",
       "      <td>3.748578</td>\n",
       "      <td>Tamil Nadu</td>\n",
       "      <td>SALEM</td>\n",
       "      <td>AIS</td>\n",
       "      <td>1</td>\n",
       "    </tr>\n",
       "    <tr>\n",
       "      <th>2</th>\n",
       "      <td>311.196136</td>\n",
       "      <td>988.736740</td>\n",
       "      <td>10</td>\n",
       "      <td>26</td>\n",
       "      <td>956.396651</td>\n",
       "      <td>1018.965530</td>\n",
       "      <td>29.658817</td>\n",
       "      <td>24.782610</td>\n",
       "      <td>28.065332</td>\n",
       "      <td>4.622073</td>\n",
       "      <td>Karnataka</td>\n",
       "      <td>MYSORE</td>\n",
       "      <td>AIS</td>\n",
       "      <td>1</td>\n",
       "    </tr>\n",
       "    <tr>\n",
       "      <th>3</th>\n",
       "      <td>287.436201</td>\n",
       "      <td>981.742594</td>\n",
       "      <td>30</td>\n",
       "      <td>90</td>\n",
       "      <td>983.988918</td>\n",
       "      <td>997.641400</td>\n",
       "      <td>22.893604</td>\n",
       "      <td>37.336499</td>\n",
       "      <td>26.855636</td>\n",
       "      <td>3.764864</td>\n",
       "      <td>Karnataka</td>\n",
       "      <td>RAICHUR</td>\n",
       "      <td>AIS</td>\n",
       "      <td>0</td>\n",
       "    </tr>\n",
       "    <tr>\n",
       "      <th>4</th>\n",
       "      <td>304.757082</td>\n",
       "      <td>1000.575716</td>\n",
       "      <td>28</td>\n",
       "      <td>19</td>\n",
       "      <td>960.823766</td>\n",
       "      <td>975.733222</td>\n",
       "      <td>8.360576</td>\n",
       "      <td>43.033714</td>\n",
       "      <td>9.948649</td>\n",
       "      <td>4.200703</td>\n",
       "      <td>Tamil Nadu</td>\n",
       "      <td>HOSUR</td>\n",
       "      <td>AIS</td>\n",
       "      <td>1</td>\n",
       "    </tr>\n",
       "    <tr>\n",
       "      <th>...</th>\n",
       "      <td>...</td>\n",
       "      <td>...</td>\n",
       "      <td>...</td>\n",
       "      <td>...</td>\n",
       "      <td>...</td>\n",
       "      <td>...</td>\n",
       "      <td>...</td>\n",
       "      <td>...</td>\n",
       "      <td>...</td>\n",
       "      <td>...</td>\n",
       "      <td>...</td>\n",
       "      <td>...</td>\n",
       "      <td>...</td>\n",
       "      <td>...</td>\n",
       "    </tr>\n",
       "    <tr>\n",
       "      <th>99603</th>\n",
       "      <td>292.819616</td>\n",
       "      <td>1013.101585</td>\n",
       "      <td>11</td>\n",
       "      <td>17</td>\n",
       "      <td>1029.270922</td>\n",
       "      <td>970.494358</td>\n",
       "      <td>23.947437</td>\n",
       "      <td>19.535539</td>\n",
       "      <td>94.021017</td>\n",
       "      <td>4.177869</td>\n",
       "      <td>Karnataka</td>\n",
       "      <td>RAICHUR</td>\n",
       "      <td>AIS</td>\n",
       "      <td>1</td>\n",
       "    </tr>\n",
       "    <tr>\n",
       "      <th>99604</th>\n",
       "      <td>280.929076</td>\n",
       "      <td>1010.173871</td>\n",
       "      <td>75</td>\n",
       "      <td>56</td>\n",
       "      <td>1013.579730</td>\n",
       "      <td>1028.112688</td>\n",
       "      <td>1.627375</td>\n",
       "      <td>48.461543</td>\n",
       "      <td>76.895227</td>\n",
       "      <td>4.945975</td>\n",
       "      <td>Tamil Nadu</td>\n",
       "      <td>HOSUR</td>\n",
       "      <td>AIS</td>\n",
       "      <td>1</td>\n",
       "    </tr>\n",
       "    <tr>\n",
       "      <th>99605</th>\n",
       "      <td>300.973695</td>\n",
       "      <td>999.634586</td>\n",
       "      <td>33</td>\n",
       "      <td>45</td>\n",
       "      <td>974.271053</td>\n",
       "      <td>1003.193781</td>\n",
       "      <td>24.589207</td>\n",
       "      <td>18.515266</td>\n",
       "      <td>76.955028</td>\n",
       "      <td>4.833557</td>\n",
       "      <td>Andhra Pradesh</td>\n",
       "      <td>SRIKAKULAM</td>\n",
       "      <td>GIS</td>\n",
       "      <td>0</td>\n",
       "    </tr>\n",
       "    <tr>\n",
       "      <th>99606</th>\n",
       "      <td>297.390506</td>\n",
       "      <td>1026.954822</td>\n",
       "      <td>30</td>\n",
       "      <td>52</td>\n",
       "      <td>960.838588</td>\n",
       "      <td>994.284506</td>\n",
       "      <td>28.096407</td>\n",
       "      <td>1.850919</td>\n",
       "      <td>33.408153</td>\n",
       "      <td>3.251165</td>\n",
       "      <td>Tamil Nadu</td>\n",
       "      <td>SALEM</td>\n",
       "      <td>AIS</td>\n",
       "      <td>1</td>\n",
       "    </tr>\n",
       "    <tr>\n",
       "      <th>99607</th>\n",
       "      <td>280.468139</td>\n",
       "      <td>1007.610720</td>\n",
       "      <td>88</td>\n",
       "      <td>25</td>\n",
       "      <td>993.666785</td>\n",
       "      <td>990.641518</td>\n",
       "      <td>29.898930</td>\n",
       "      <td>49.382851</td>\n",
       "      <td>27.951167</td>\n",
       "      <td>3.525330</td>\n",
       "      <td>Karnataka</td>\n",
       "      <td>RAICHUR</td>\n",
       "      <td>AIS</td>\n",
       "      <td>1</td>\n",
       "    </tr>\n",
       "  </tbody>\n",
       "</table>\n",
       "<p>99608 rows × 14 columns</p>\n",
       "</div>"
      ],
      "text/plain": [
       "           Temp_K  pressure_hPa  humidity_percent  cloudiness_percent  \\\n",
       "0      305.136748   1007.668578                77                  81   \n",
       "1      306.632430    998.016072                45                  19   \n",
       "2      311.196136    988.736740                10                  26   \n",
       "3      287.436201    981.742594                30                  90   \n",
       "4      304.757082   1000.575716                28                  19   \n",
       "...           ...           ...               ...                 ...   \n",
       "99603  292.819616   1013.101585                11                  17   \n",
       "99604  280.929076   1010.173871                75                  56   \n",
       "99605  300.973695    999.634586                33                  45   \n",
       "99606  297.390506   1026.954822                30                  52   \n",
       "99607  280.468139   1007.610720                88                  25   \n",
       "\n",
       "       sea_level_hPa  grnd_level_hPa  visibility_km  wind_speed_m_sec  \\\n",
       "0         954.372246     1021.889085      10.480379          3.799810   \n",
       "1        1012.982118      998.411000      16.051354         25.905855   \n",
       "2         956.396651     1018.965530      29.658817         24.782610   \n",
       "3         983.988918      997.641400      22.893604         37.336499   \n",
       "4         960.823766      975.733222       8.360576         43.033714   \n",
       "...              ...             ...            ...               ...   \n",
       "99603    1029.270922      970.494358      23.947437         19.535539   \n",
       "99604    1013.579730     1028.112688       1.627375         48.461543   \n",
       "99605     974.271053     1003.193781      24.589207         18.515266   \n",
       "99606     960.838588      994.284506      28.096407          1.850919   \n",
       "99607     993.666785      990.641518      29.898930         49.382851   \n",
       "\n",
       "       rain_volume_mm  snow_volume_mm           State    Substation  \\\n",
       "0           66.021771        2.891291          Kerala  TRISSUR HVDC   \n",
       "1           61.885144        3.748578      Tamil Nadu         SALEM   \n",
       "2           28.065332        4.622073       Karnataka        MYSORE   \n",
       "3           26.855636        3.764864       Karnataka       RAICHUR   \n",
       "4            9.948649        4.200703      Tamil Nadu         HOSUR   \n",
       "...               ...             ...             ...           ...   \n",
       "99603       94.021017        4.177869       Karnataka       RAICHUR   \n",
       "99604       76.895227        4.945975      Tamil Nadu         HOSUR   \n",
       "99605       76.955028        4.833557  Andhra Pradesh    SRIKAKULAM   \n",
       "99606       33.408153        3.251165      Tamil Nadu         SALEM   \n",
       "99607       27.951167        3.525330       Karnataka       RAICHUR   \n",
       "\n",
       "      Type (AIS/ GIS)  Risk  \n",
       "0                 AIS     1  \n",
       "1                 AIS     1  \n",
       "2                 AIS     1  \n",
       "3                 AIS     0  \n",
       "4                 AIS     1  \n",
       "...               ...   ...  \n",
       "99603             AIS     1  \n",
       "99604             AIS     1  \n",
       "99605             GIS     0  \n",
       "99606             AIS     1  \n",
       "99607             AIS     1  \n",
       "\n",
       "[99608 rows x 14 columns]"
      ]
     },
     "execution_count": 11,
     "metadata": {},
     "output_type": "execute_result"
    }
   ],
   "source": [
    "data.dropna(axis = 0)"
   ]
  },
  {
   "cell_type": "code",
   "execution_count": 12,
   "id": "07db0e5d-5abf-4589-8d1c-1d3876f6a90e",
   "metadata": {},
   "outputs": [
    {
     "data": {
      "text/plain": [
       "Index(['Temp_K', 'pressure_hPa', 'humidity_percent', 'cloudiness_percent',\n",
       "       'sea_level_hPa', 'grnd_level_hPa', 'visibility_km', 'wind_speed_m_sec',\n",
       "       'rain_volume_mm', 'snow_volume_mm', 'State', 'Substation',\n",
       "       'Type (AIS/ GIS)', 'Risk'],\n",
       "      dtype='object')"
      ]
     },
     "execution_count": 12,
     "metadata": {},
     "output_type": "execute_result"
    }
   ],
   "source": [
    "data.columns"
   ]
  },
  {
   "cell_type": "code",
   "execution_count": 13,
   "id": "3aa97905-dbf2-456a-97a1-12636da740a8",
   "metadata": {},
   "outputs": [
    {
     "name": "stdout",
     "output_type": "stream",
     "text": [
      "Temp_K                0\n",
      "pressure_hPa          0\n",
      "humidity_percent      0\n",
      "cloudiness_percent    0\n",
      "sea_level_hPa         0\n",
      "grnd_level_hPa        0\n",
      "visibility_km         0\n",
      "wind_speed_m_sec      0\n",
      "rain_volume_mm        0\n",
      "snow_volume_mm        0\n",
      "State                 0\n",
      "Substation            0\n",
      "Type (AIS/ GIS)       0\n",
      "Risk                  0\n",
      "dtype: int64\n"
     ]
    }
   ],
   "source": [
    "print(data.isnull().sum())"
   ]
  },
  {
   "cell_type": "code",
   "execution_count": 14,
   "id": "a2cdc930-106b-41ef-b09c-1e569e217877",
   "metadata": {},
   "outputs": [
    {
     "name": "stdout",
     "output_type": "stream",
     "text": [
      "Index(['Temp_K', 'pressure_hPa', 'humidity_percent', 'cloudiness_percent',\n",
      "       'sea_level_hPa', 'grnd_level_hPa', 'visibility_km', 'wind_speed_m_sec',\n",
      "       'rain_volume_mm', 'snow_volume_mm', 'State', 'Substation',\n",
      "       'Type (AIS/ GIS)', 'Risk'],\n",
      "      dtype='object')\n"
     ]
    }
   ],
   "source": [
    "df = data\n",
    "print(df.columns)"
   ]
  },
  {
   "cell_type": "code",
   "execution_count": 15,
   "id": "8dc75d9a-819b-4256-896a-28b8debbdc8a",
   "metadata": {},
   "outputs": [],
   "source": [
    "# Get the index of each column separately\n",
    "index_state = df.columns.get_loc('State')\n",
    "index_substation = df.columns.get_loc('Substation')\n",
    "index_type = df.columns.get_loc('Type (AIS/ GIS)')\n",
    "\n",
    "# Store the indices in a list\n",
    "columns_index = [index_state, index_substation, index_type]\n",
    "\n",
    "# Delete columns up to 'Type (AIS/ GIS)'\n",
    "columns_to_drop = df.columns[columns_index]\n",
    "\n",
    "df.drop(columns=columns_to_drop, inplace=True)"
   ]
  },
  {
   "cell_type": "code",
   "execution_count": 16,
   "id": "b3e9e819-1685-459c-ab4c-6b2b6e6661d6",
   "metadata": {},
   "outputs": [
    {
     "name": "stdout",
     "output_type": "stream",
     "text": [
      "Index(['Temp_K', 'pressure_hPa', 'humidity_percent', 'cloudiness_percent',\n",
      "       'sea_level_hPa', 'grnd_level_hPa', 'visibility_km', 'wind_speed_m_sec',\n",
      "       'rain_volume_mm', 'snow_volume_mm', 'Risk'],\n",
      "      dtype='object')\n"
     ]
    },
    {
     "data": {
      "text/plain": [
       "<bound method NDFrame.head of            Temp_K  pressure_hPa  humidity_percent  cloudiness_percent  \\\n",
       "0      305.136748   1007.668578                77                  81   \n",
       "1      306.632430    998.016072                45                  19   \n",
       "2      311.196136    988.736740                10                  26   \n",
       "3      287.436201    981.742594                30                  90   \n",
       "4      304.757082   1000.575716                28                  19   \n",
       "...           ...           ...               ...                 ...   \n",
       "99603  292.819616   1013.101585                11                  17   \n",
       "99604  280.929076   1010.173871                75                  56   \n",
       "99605  300.973695    999.634586                33                  45   \n",
       "99606  297.390506   1026.954822                30                  52   \n",
       "99607  280.468139   1007.610720                88                  25   \n",
       "\n",
       "       sea_level_hPa  grnd_level_hPa  visibility_km  wind_speed_m_sec  \\\n",
       "0         954.372246     1021.889085      10.480379          3.799810   \n",
       "1        1012.982118      998.411000      16.051354         25.905855   \n",
       "2         956.396651     1018.965530      29.658817         24.782610   \n",
       "3         983.988918      997.641400      22.893604         37.336499   \n",
       "4         960.823766      975.733222       8.360576         43.033714   \n",
       "...              ...             ...            ...               ...   \n",
       "99603    1029.270922      970.494358      23.947437         19.535539   \n",
       "99604    1013.579730     1028.112688       1.627375         48.461543   \n",
       "99605     974.271053     1003.193781      24.589207         18.515266   \n",
       "99606     960.838588      994.284506      28.096407          1.850919   \n",
       "99607     993.666785      990.641518      29.898930         49.382851   \n",
       "\n",
       "       rain_volume_mm  snow_volume_mm  Risk  \n",
       "0           66.021771        2.891291     1  \n",
       "1           61.885144        3.748578     1  \n",
       "2           28.065332        4.622073     1  \n",
       "3           26.855636        3.764864     0  \n",
       "4            9.948649        4.200703     1  \n",
       "...               ...             ...   ...  \n",
       "99603       94.021017        4.177869     1  \n",
       "99604       76.895227        4.945975     1  \n",
       "99605       76.955028        4.833557     0  \n",
       "99606       33.408153        3.251165     1  \n",
       "99607       27.951167        3.525330     1  \n",
       "\n",
       "[99608 rows x 11 columns]>"
      ]
     },
     "execution_count": 16,
     "metadata": {},
     "output_type": "execute_result"
    }
   ],
   "source": [
    "print(df.columns)\n",
    "df.head"
   ]
  },
  {
   "cell_type": "code",
   "execution_count": 17,
   "id": "b7068fd7-681e-4a1b-a476-0bb0d800f096",
   "metadata": {},
   "outputs": [
    {
     "data": {
      "text/plain": [
       "Index(['Temp_K', 'pressure_hPa', 'humidity_percent', 'cloudiness_percent',\n",
       "       'sea_level_hPa', 'grnd_level_hPa', 'visibility_km', 'wind_speed_m_sec',\n",
       "       'rain_volume_mm', 'snow_volume_mm', 'Risk'],\n",
       "      dtype='object')"
      ]
     },
     "execution_count": 17,
     "metadata": {},
     "output_type": "execute_result"
    }
   ],
   "source": [
    "\n",
    "df.columns"
   ]
  },
  {
   "cell_type": "markdown",
   "id": "3565b438-7d56-46ce-8529-8be59ee6d380",
   "metadata": {},
   "source": [
    "<h1>Data Split</h1>"
   ]
  },
  {
   "cell_type": "code",
   "execution_count": 18,
   "id": "412013fc-6715-4295-b468-a9519b125318",
   "metadata": {},
   "outputs": [],
   "source": [
    "y = df['Risk']"
   ]
  },
  {
   "cell_type": "code",
   "execution_count": 19,
   "id": "d617bb6e-989e-43d6-8bf5-543420fbb1f9",
   "metadata": {},
   "outputs": [],
   "source": [
    "x = df.iloc[:,:-1]\n"
   ]
  },
  {
   "cell_type": "code",
   "execution_count": 20,
   "id": "16ae456c-b6a2-46c9-90d9-f5ee861c5096",
   "metadata": {},
   "outputs": [
    {
     "name": "stdout",
     "output_type": "stream",
     "text": [
      "<bound method NDFrame.head of            Temp_K  pressure_hPa  humidity_percent  cloudiness_percent  \\\n",
      "0      305.136748   1007.668578                77                  81   \n",
      "1      306.632430    998.016072                45                  19   \n",
      "2      311.196136    988.736740                10                  26   \n",
      "3      287.436201    981.742594                30                  90   \n",
      "4      304.757082   1000.575716                28                  19   \n",
      "...           ...           ...               ...                 ...   \n",
      "99603  292.819616   1013.101585                11                  17   \n",
      "99604  280.929076   1010.173871                75                  56   \n",
      "99605  300.973695    999.634586                33                  45   \n",
      "99606  297.390506   1026.954822                30                  52   \n",
      "99607  280.468139   1007.610720                88                  25   \n",
      "\n",
      "       sea_level_hPa  grnd_level_hPa  visibility_km  wind_speed_m_sec  \\\n",
      "0         954.372246     1021.889085      10.480379          3.799810   \n",
      "1        1012.982118      998.411000      16.051354         25.905855   \n",
      "2         956.396651     1018.965530      29.658817         24.782610   \n",
      "3         983.988918      997.641400      22.893604         37.336499   \n",
      "4         960.823766      975.733222       8.360576         43.033714   \n",
      "...              ...             ...            ...               ...   \n",
      "99603    1029.270922      970.494358      23.947437         19.535539   \n",
      "99604    1013.579730     1028.112688       1.627375         48.461543   \n",
      "99605     974.271053     1003.193781      24.589207         18.515266   \n",
      "99606     960.838588      994.284506      28.096407          1.850919   \n",
      "99607     993.666785      990.641518      29.898930         49.382851   \n",
      "\n",
      "       rain_volume_mm  snow_volume_mm  \n",
      "0           66.021771        2.891291  \n",
      "1           61.885144        3.748578  \n",
      "2           28.065332        4.622073  \n",
      "3           26.855636        3.764864  \n",
      "4            9.948649        4.200703  \n",
      "...               ...             ...  \n",
      "99603       94.021017        4.177869  \n",
      "99604       76.895227        4.945975  \n",
      "99605       76.955028        4.833557  \n",
      "99606       33.408153        3.251165  \n",
      "99607       27.951167        3.525330  \n",
      "\n",
      "[99608 rows x 10 columns]>\n",
      " ------------------------- \n",
      "             Temp_K  pressure_hPa  humidity_percent  cloudiness_percent  \\\n",
      "count  99608.000000  99608.000000      99608.000000        99608.000000   \n",
      "mean     299.989920   1007.562401         49.508614           49.330777   \n",
      "std       11.573428     15.906919         28.899460           28.901260   \n",
      "min      280.000091    980.000600          0.000000            0.000000   \n",
      "25%      289.939633    993.720180         25.000000           24.000000   \n",
      "50%      299.872174   1007.613476         49.000000           49.000000   \n",
      "75%      310.023090   1021.333483         75.000000           74.000000   \n",
      "max      319.997432   1034.999131         99.000000           99.000000   \n",
      "\n",
      "       sea_level_hPa  grnd_level_hPa  visibility_km  wind_speed_m_sec  \\\n",
      "count   99608.000000    99608.000000   99608.000000      99608.000000   \n",
      "mean      995.051443      999.989702      15.489985         30.031472   \n",
      "std        25.946450       23.059666       8.372312         17.296169   \n",
      "min       950.001936      960.000041       1.000659          0.002693   \n",
      "25%       972.620449      980.075988       8.252644         15.118136   \n",
      "50%       995.223375      999.851220      15.467844         29.997467   \n",
      "75%      1017.431975     1019.965178      22.759042         44.978659   \n",
      "max      1039.999848     1039.999155      29.999853         59.999402   \n",
      "\n",
      "       rain_volume_mm  snow_volume_mm  \n",
      "count    99608.000000    99608.000000  \n",
      "mean        50.175169        2.497858  \n",
      "std         28.909332        1.442604  \n",
      "min          0.000083        0.000013  \n",
      "25%         25.047454        1.242992  \n",
      "50%         50.366427        2.499761  \n",
      "75%         75.254493        3.742092  \n",
      "max         99.999282        4.999956  \n",
      " --------------- \n",
      "Index(['Temp_K', 'pressure_hPa', 'humidity_percent', 'cloudiness_percent',\n",
      "       'sea_level_hPa', 'grnd_level_hPa', 'visibility_km', 'wind_speed_m_sec',\n",
      "       'rain_volume_mm', 'snow_volume_mm'],\n",
      "      dtype='object')\n"
     ]
    }
   ],
   "source": [
    "print(x.head)\n",
    "print(\" ------------------------- \")\n",
    "print(x.describe())\n",
    "print(' --------------- ')\n",
    "print(x.columns)"
   ]
  },
  {
   "cell_type": "code",
   "execution_count": 21,
   "id": "200c4642-f630-41e5-9bba-09a5b2ac1178",
   "metadata": {},
   "outputs": [
    {
     "name": "stdout",
     "output_type": "stream",
     "text": [
      "<bound method NDFrame.head of 0        1\n",
      "1        1\n",
      "2        1\n",
      "3        0\n",
      "4        1\n",
      "        ..\n",
      "99603    1\n",
      "99604    1\n",
      "99605    0\n",
      "99606    1\n",
      "99607    1\n",
      "Name: Risk, Length: 99608, dtype: int64>\n",
      " -------------------- \n",
      "count    99608.000000\n",
      "mean         0.499157\n",
      "std          0.500002\n",
      "min          0.000000\n",
      "25%          0.000000\n",
      "50%          0.000000\n",
      "75%          1.000000\n",
      "max          1.000000\n",
      "Name: Risk, dtype: float64\n"
     ]
    }
   ],
   "source": [
    "print(y.head)\n",
    "print(' -------------------- ')\n",
    "print(y.describe())"
   ]
  },
  {
   "cell_type": "code",
   "execution_count": 22,
   "id": "fca5fe45-860e-40fc-a36e-aded9cd79985",
   "metadata": {},
   "outputs": [],
   "source": [
    "from sklearn.model_selection import train_test_split"
   ]
  },
  {
   "cell_type": "code",
   "execution_count": 23,
   "id": "5b95f702-d4e6-4eb9-90b4-d067646d5e86",
   "metadata": {},
   "outputs": [],
   "source": [
    "\n",
    "# Splitting the preprocessed data into training and testing sets\n",
    "x_train, x_test, y_train, y_test = train_test_split(x, y, test_size=0.3, random_state=42)"
   ]
  },
  {
   "cell_type": "markdown",
   "id": "112c6141-fcf8-4cac-9560-8aee4a07c3eb",
   "metadata": {},
   "source": [
    "<h1>Model Training</h1>"
   ]
  },
  {
   "cell_type": "markdown",
   "id": "3aeabd90-f767-4267-98b9-c245da4c6f3f",
   "metadata": {},
   "source": [
    "<h2>1. Random Forest Classifier</h2>"
   ]
  },
  {
   "cell_type": "code",
   "execution_count": 24,
   "id": "462376e4-e9cc-4a78-b2eb-b5105290c2fb",
   "metadata": {},
   "outputs": [],
   "source": [
    "from sklearnex.ensemble import RandomForestClassifier"
   ]
  },
  {
   "cell_type": "code",
   "execution_count": 25,
   "id": "02b9ad13-3705-47fd-933a-9db90cd50c40",
   "metadata": {},
   "outputs": [
    {
     "name": "stdout",
     "output_type": "stream",
     "text": [
      "Training Score: 0.9998594490402377\n"
     ]
    }
   ],
   "source": [
    "rfc = RandomForestClassifier(n_estimators=100, random_state=42)\n",
    "\n",
    "# Train the model on the training data\n",
    "rfc.fit(x, y)\n",
    "\n",
    "# Check the training score\n",
    "train_score = rfc.score(x, y)\n",
    "print(\"Training Score:\", train_score)"
   ]
  },
  {
   "cell_type": "code",
   "execution_count": 26,
   "id": "ef390eab-7d6e-455c-a0a8-bdd2c99aa49d",
   "metadata": {},
   "outputs": [
    {
     "data": {
      "text/html": [
       "<style>#sk-container-id-1 {color: black;}#sk-container-id-1 pre{padding: 0;}#sk-container-id-1 div.sk-toggleable {background-color: white;}#sk-container-id-1 label.sk-toggleable__label {cursor: pointer;display: block;width: 100%;margin-bottom: 0;padding: 0.3em;box-sizing: border-box;text-align: center;}#sk-container-id-1 label.sk-toggleable__label-arrow:before {content: \"▸\";float: left;margin-right: 0.25em;color: #696969;}#sk-container-id-1 label.sk-toggleable__label-arrow:hover:before {color: black;}#sk-container-id-1 div.sk-estimator:hover label.sk-toggleable__label-arrow:before {color: black;}#sk-container-id-1 div.sk-toggleable__content {max-height: 0;max-width: 0;overflow: hidden;text-align: left;background-color: #f0f8ff;}#sk-container-id-1 div.sk-toggleable__content pre {margin: 0.2em;color: black;border-radius: 0.25em;background-color: #f0f8ff;}#sk-container-id-1 input.sk-toggleable__control:checked~div.sk-toggleable__content {max-height: 200px;max-width: 100%;overflow: auto;}#sk-container-id-1 input.sk-toggleable__control:checked~label.sk-toggleable__label-arrow:before {content: \"▾\";}#sk-container-id-1 div.sk-estimator input.sk-toggleable__control:checked~label.sk-toggleable__label {background-color: #d4ebff;}#sk-container-id-1 div.sk-label input.sk-toggleable__control:checked~label.sk-toggleable__label {background-color: #d4ebff;}#sk-container-id-1 input.sk-hidden--visually {border: 0;clip: rect(1px 1px 1px 1px);clip: rect(1px, 1px, 1px, 1px);height: 1px;margin: -1px;overflow: hidden;padding: 0;position: absolute;width: 1px;}#sk-container-id-1 div.sk-estimator {font-family: monospace;background-color: #f0f8ff;border: 1px dotted black;border-radius: 0.25em;box-sizing: border-box;margin-bottom: 0.5em;}#sk-container-id-1 div.sk-estimator:hover {background-color: #d4ebff;}#sk-container-id-1 div.sk-parallel-item::after {content: \"\";width: 100%;border-bottom: 1px solid gray;flex-grow: 1;}#sk-container-id-1 div.sk-label:hover label.sk-toggleable__label {background-color: #d4ebff;}#sk-container-id-1 div.sk-serial::before {content: \"\";position: absolute;border-left: 1px solid gray;box-sizing: border-box;top: 0;bottom: 0;left: 50%;z-index: 0;}#sk-container-id-1 div.sk-serial {display: flex;flex-direction: column;align-items: center;background-color: white;padding-right: 0.2em;padding-left: 0.2em;position: relative;}#sk-container-id-1 div.sk-item {position: relative;z-index: 1;}#sk-container-id-1 div.sk-parallel {display: flex;align-items: stretch;justify-content: center;background-color: white;position: relative;}#sk-container-id-1 div.sk-item::before, #sk-container-id-1 div.sk-parallel-item::before {content: \"\";position: absolute;border-left: 1px solid gray;box-sizing: border-box;top: 0;bottom: 0;left: 50%;z-index: -1;}#sk-container-id-1 div.sk-parallel-item {display: flex;flex-direction: column;z-index: 1;position: relative;background-color: white;}#sk-container-id-1 div.sk-parallel-item:first-child::after {align-self: flex-end;width: 50%;}#sk-container-id-1 div.sk-parallel-item:last-child::after {align-self: flex-start;width: 50%;}#sk-container-id-1 div.sk-parallel-item:only-child::after {width: 0;}#sk-container-id-1 div.sk-dashed-wrapped {border: 1px dashed gray;margin: 0 0.4em 0.5em 0.4em;box-sizing: border-box;padding-bottom: 0.4em;background-color: white;}#sk-container-id-1 div.sk-label label {font-family: monospace;font-weight: bold;display: inline-block;line-height: 1.2em;}#sk-container-id-1 div.sk-label-container {text-align: center;}#sk-container-id-1 div.sk-container {/* jupyter's `normalize.less` sets `[hidden] { display: none; }` but bootstrap.min.css set `[hidden] { display: none !important; }` so we also need the `!important` here to be able to override the default hidden behavior on the sphinx rendered scikit-learn.org. See: https://github.com/scikit-learn/scikit-learn/issues/21755 */display: inline-block !important;position: relative;}#sk-container-id-1 div.sk-text-repr-fallback {display: none;}</style><div id=\"sk-container-id-1\" class=\"sk-top-container\"><div class=\"sk-text-repr-fallback\"><pre>RandomForestClassifier(random_state=42)</pre><b>In a Jupyter environment, please rerun this cell to show the HTML representation or trust the notebook. <br />On GitHub, the HTML representation is unable to render, please try loading this page with nbviewer.org.</b></div><div class=\"sk-container\" hidden><div class=\"sk-item\"><div class=\"sk-estimator sk-toggleable\"><input class=\"sk-toggleable__control sk-hidden--visually\" id=\"sk-estimator-id-1\" type=\"checkbox\" checked><label for=\"sk-estimator-id-1\" class=\"sk-toggleable__label sk-toggleable__label-arrow\">RandomForestClassifier</label><div class=\"sk-toggleable__content\"><pre>RandomForestClassifier(random_state=42)</pre></div></div></div></div></div>"
      ],
      "text/plain": [
       "RandomForestClassifier(random_state=42)"
      ]
     },
     "execution_count": 26,
     "metadata": {},
     "output_type": "execute_result"
    }
   ],
   "source": [
    "rfc.fit(x_train, y_train)"
   ]
  },
  {
   "cell_type": "code",
   "execution_count": 27,
   "id": "f65e5326-8f78-4441-85fc-66ddc115780c",
   "metadata": {},
   "outputs": [
    {
     "name": "stdout",
     "output_type": "stream",
     "text": [
      "Training Score: 0.999913947651488\n"
     ]
    }
   ],
   "source": [
    "train_score = rfc.score(x_train, y_train)\n",
    "print(\"Training Score:\", train_score)"
   ]
  },
  {
   "cell_type": "code",
   "execution_count": 28,
   "id": "d2e11607-9920-4654-be76-6169bdcccbdb",
   "metadata": {},
   "outputs": [
    {
     "name": "stdout",
     "output_type": "stream",
     "text": [
      "Test Score: 0.9035237425961249\n"
     ]
    }
   ],
   "source": [
    "test_score = rfc.score(x_test, y_test)\n",
    "print(\"Test Score:\", test_score)"
   ]
  },
  {
   "cell_type": "markdown",
   "id": "ba3cf88b-7eb3-45b8-9dfa-4e0215f08083",
   "metadata": {
    "tags": []
   },
   "source": [
    "<h2>2. Logistic Regression</h2>"
   ]
  },
  {
   "cell_type": "code",
   "execution_count": 29,
   "id": "5022a638-a6fc-4bbb-9691-f9f399043184",
   "metadata": {},
   "outputs": [],
   "source": [
    "from sklearnex.linear_model import LogisticRegression\n"
   ]
  },
  {
   "cell_type": "code",
   "execution_count": 30,
   "id": "0080bfd8-2226-46ac-af12-80b073c8d74c",
   "metadata": {},
   "outputs": [
    {
     "data": {
      "text/html": [
       "<style>#sk-container-id-2 {color: black;}#sk-container-id-2 pre{padding: 0;}#sk-container-id-2 div.sk-toggleable {background-color: white;}#sk-container-id-2 label.sk-toggleable__label {cursor: pointer;display: block;width: 100%;margin-bottom: 0;padding: 0.3em;box-sizing: border-box;text-align: center;}#sk-container-id-2 label.sk-toggleable__label-arrow:before {content: \"▸\";float: left;margin-right: 0.25em;color: #696969;}#sk-container-id-2 label.sk-toggleable__label-arrow:hover:before {color: black;}#sk-container-id-2 div.sk-estimator:hover label.sk-toggleable__label-arrow:before {color: black;}#sk-container-id-2 div.sk-toggleable__content {max-height: 0;max-width: 0;overflow: hidden;text-align: left;background-color: #f0f8ff;}#sk-container-id-2 div.sk-toggleable__content pre {margin: 0.2em;color: black;border-radius: 0.25em;background-color: #f0f8ff;}#sk-container-id-2 input.sk-toggleable__control:checked~div.sk-toggleable__content {max-height: 200px;max-width: 100%;overflow: auto;}#sk-container-id-2 input.sk-toggleable__control:checked~label.sk-toggleable__label-arrow:before {content: \"▾\";}#sk-container-id-2 div.sk-estimator input.sk-toggleable__control:checked~label.sk-toggleable__label {background-color: #d4ebff;}#sk-container-id-2 div.sk-label input.sk-toggleable__control:checked~label.sk-toggleable__label {background-color: #d4ebff;}#sk-container-id-2 input.sk-hidden--visually {border: 0;clip: rect(1px 1px 1px 1px);clip: rect(1px, 1px, 1px, 1px);height: 1px;margin: -1px;overflow: hidden;padding: 0;position: absolute;width: 1px;}#sk-container-id-2 div.sk-estimator {font-family: monospace;background-color: #f0f8ff;border: 1px dotted black;border-radius: 0.25em;box-sizing: border-box;margin-bottom: 0.5em;}#sk-container-id-2 div.sk-estimator:hover {background-color: #d4ebff;}#sk-container-id-2 div.sk-parallel-item::after {content: \"\";width: 100%;border-bottom: 1px solid gray;flex-grow: 1;}#sk-container-id-2 div.sk-label:hover label.sk-toggleable__label {background-color: #d4ebff;}#sk-container-id-2 div.sk-serial::before {content: \"\";position: absolute;border-left: 1px solid gray;box-sizing: border-box;top: 0;bottom: 0;left: 50%;z-index: 0;}#sk-container-id-2 div.sk-serial {display: flex;flex-direction: column;align-items: center;background-color: white;padding-right: 0.2em;padding-left: 0.2em;position: relative;}#sk-container-id-2 div.sk-item {position: relative;z-index: 1;}#sk-container-id-2 div.sk-parallel {display: flex;align-items: stretch;justify-content: center;background-color: white;position: relative;}#sk-container-id-2 div.sk-item::before, #sk-container-id-2 div.sk-parallel-item::before {content: \"\";position: absolute;border-left: 1px solid gray;box-sizing: border-box;top: 0;bottom: 0;left: 50%;z-index: -1;}#sk-container-id-2 div.sk-parallel-item {display: flex;flex-direction: column;z-index: 1;position: relative;background-color: white;}#sk-container-id-2 div.sk-parallel-item:first-child::after {align-self: flex-end;width: 50%;}#sk-container-id-2 div.sk-parallel-item:last-child::after {align-self: flex-start;width: 50%;}#sk-container-id-2 div.sk-parallel-item:only-child::after {width: 0;}#sk-container-id-2 div.sk-dashed-wrapped {border: 1px dashed gray;margin: 0 0.4em 0.5em 0.4em;box-sizing: border-box;padding-bottom: 0.4em;background-color: white;}#sk-container-id-2 div.sk-label label {font-family: monospace;font-weight: bold;display: inline-block;line-height: 1.2em;}#sk-container-id-2 div.sk-label-container {text-align: center;}#sk-container-id-2 div.sk-container {/* jupyter's `normalize.less` sets `[hidden] { display: none; }` but bootstrap.min.css set `[hidden] { display: none !important; }` so we also need the `!important` here to be able to override the default hidden behavior on the sphinx rendered scikit-learn.org. See: https://github.com/scikit-learn/scikit-learn/issues/21755 */display: inline-block !important;position: relative;}#sk-container-id-2 div.sk-text-repr-fallback {display: none;}</style><div id=\"sk-container-id-2\" class=\"sk-top-container\"><div class=\"sk-text-repr-fallback\"><pre>LogisticRegression()</pre><b>In a Jupyter environment, please rerun this cell to show the HTML representation or trust the notebook. <br />On GitHub, the HTML representation is unable to render, please try loading this page with nbviewer.org.</b></div><div class=\"sk-container\" hidden><div class=\"sk-item\"><div class=\"sk-estimator sk-toggleable\"><input class=\"sk-toggleable__control sk-hidden--visually\" id=\"sk-estimator-id-2\" type=\"checkbox\" checked><label for=\"sk-estimator-id-2\" class=\"sk-toggleable__label sk-toggleable__label-arrow\">LogisticRegression</label><div class=\"sk-toggleable__content\"><pre>LogisticRegression()</pre></div></div></div></div></div>"
      ],
      "text/plain": [
       "LogisticRegression()"
      ]
     },
     "execution_count": 30,
     "metadata": {},
     "output_type": "execute_result"
    }
   ],
   "source": [
    "logReg = LogisticRegression() \n",
    "logReg.fit(x_train, y_train)\n"
   ]
  },
  {
   "cell_type": "code",
   "execution_count": 31,
   "id": "0734dd11-2aef-44e0-835d-b166ddd1a8fa",
   "metadata": {},
   "outputs": [
    {
     "name": "stdout",
     "output_type": "stream",
     "text": [
      "Training Score: 0.8478881319469344\n"
     ]
    }
   ],
   "source": [
    "train_score_log = logReg.score(x_train, y_train)\n",
    "print(\"Training Score:\", train_score_log)"
   ]
  },
  {
   "cell_type": "code",
   "execution_count": 32,
   "id": "16f83490-30c7-48e3-9dca-96cc24fdb866",
   "metadata": {},
   "outputs": [
    {
     "name": "stdout",
     "output_type": "stream",
     "text": [
      "Test Score: 0.8480741558745776\n"
     ]
    }
   ],
   "source": [
    "test_score_log = logReg.score(x_test, y_test)\n",
    "print(\"Test Score:\", test_score_log)"
   ]
  },
  {
   "cell_type": "code",
   "execution_count": 33,
   "id": "c2093aed-0438-430f-b780-20e92e91556d",
   "metadata": {},
   "outputs": [],
   "source": [
    "y_pred_log = logReg.predict(x_train)"
   ]
  },
  {
   "cell_type": "markdown",
   "id": "406eb0dd-5365-4cc1-a01f-3d376c8f7547",
   "metadata": {
    "tags": []
   },
   "source": [
    "<h2>3. SVC</h2>"
   ]
  },
  {
   "cell_type": "code",
   "execution_count": 34,
   "id": "2114d9a7-f43f-4946-b9ec-79df020e9c79",
   "metadata": {},
   "outputs": [],
   "source": [
    "from sklearnex.svm import SVC"
   ]
  },
  {
   "cell_type": "code",
   "execution_count": 35,
   "id": "6cb07e81-c2ef-418f-93d1-2a23b013ac89",
   "metadata": {},
   "outputs": [
    {
     "data": {
      "text/html": [
       "<style>#sk-container-id-3 {color: black;}#sk-container-id-3 pre{padding: 0;}#sk-container-id-3 div.sk-toggleable {background-color: white;}#sk-container-id-3 label.sk-toggleable__label {cursor: pointer;display: block;width: 100%;margin-bottom: 0;padding: 0.3em;box-sizing: border-box;text-align: center;}#sk-container-id-3 label.sk-toggleable__label-arrow:before {content: \"▸\";float: left;margin-right: 0.25em;color: #696969;}#sk-container-id-3 label.sk-toggleable__label-arrow:hover:before {color: black;}#sk-container-id-3 div.sk-estimator:hover label.sk-toggleable__label-arrow:before {color: black;}#sk-container-id-3 div.sk-toggleable__content {max-height: 0;max-width: 0;overflow: hidden;text-align: left;background-color: #f0f8ff;}#sk-container-id-3 div.sk-toggleable__content pre {margin: 0.2em;color: black;border-radius: 0.25em;background-color: #f0f8ff;}#sk-container-id-3 input.sk-toggleable__control:checked~div.sk-toggleable__content {max-height: 200px;max-width: 100%;overflow: auto;}#sk-container-id-3 input.sk-toggleable__control:checked~label.sk-toggleable__label-arrow:before {content: \"▾\";}#sk-container-id-3 div.sk-estimator input.sk-toggleable__control:checked~label.sk-toggleable__label {background-color: #d4ebff;}#sk-container-id-3 div.sk-label input.sk-toggleable__control:checked~label.sk-toggleable__label {background-color: #d4ebff;}#sk-container-id-3 input.sk-hidden--visually {border: 0;clip: rect(1px 1px 1px 1px);clip: rect(1px, 1px, 1px, 1px);height: 1px;margin: -1px;overflow: hidden;padding: 0;position: absolute;width: 1px;}#sk-container-id-3 div.sk-estimator {font-family: monospace;background-color: #f0f8ff;border: 1px dotted black;border-radius: 0.25em;box-sizing: border-box;margin-bottom: 0.5em;}#sk-container-id-3 div.sk-estimator:hover {background-color: #d4ebff;}#sk-container-id-3 div.sk-parallel-item::after {content: \"\";width: 100%;border-bottom: 1px solid gray;flex-grow: 1;}#sk-container-id-3 div.sk-label:hover label.sk-toggleable__label {background-color: #d4ebff;}#sk-container-id-3 div.sk-serial::before {content: \"\";position: absolute;border-left: 1px solid gray;box-sizing: border-box;top: 0;bottom: 0;left: 50%;z-index: 0;}#sk-container-id-3 div.sk-serial {display: flex;flex-direction: column;align-items: center;background-color: white;padding-right: 0.2em;padding-left: 0.2em;position: relative;}#sk-container-id-3 div.sk-item {position: relative;z-index: 1;}#sk-container-id-3 div.sk-parallel {display: flex;align-items: stretch;justify-content: center;background-color: white;position: relative;}#sk-container-id-3 div.sk-item::before, #sk-container-id-3 div.sk-parallel-item::before {content: \"\";position: absolute;border-left: 1px solid gray;box-sizing: border-box;top: 0;bottom: 0;left: 50%;z-index: -1;}#sk-container-id-3 div.sk-parallel-item {display: flex;flex-direction: column;z-index: 1;position: relative;background-color: white;}#sk-container-id-3 div.sk-parallel-item:first-child::after {align-self: flex-end;width: 50%;}#sk-container-id-3 div.sk-parallel-item:last-child::after {align-self: flex-start;width: 50%;}#sk-container-id-3 div.sk-parallel-item:only-child::after {width: 0;}#sk-container-id-3 div.sk-dashed-wrapped {border: 1px dashed gray;margin: 0 0.4em 0.5em 0.4em;box-sizing: border-box;padding-bottom: 0.4em;background-color: white;}#sk-container-id-3 div.sk-label label {font-family: monospace;font-weight: bold;display: inline-block;line-height: 1.2em;}#sk-container-id-3 div.sk-label-container {text-align: center;}#sk-container-id-3 div.sk-container {/* jupyter's `normalize.less` sets `[hidden] { display: none; }` but bootstrap.min.css set `[hidden] { display: none !important; }` so we also need the `!important` here to be able to override the default hidden behavior on the sphinx rendered scikit-learn.org. See: https://github.com/scikit-learn/scikit-learn/issues/21755 */display: inline-block !important;position: relative;}#sk-container-id-3 div.sk-text-repr-fallback {display: none;}</style><div id=\"sk-container-id-3\" class=\"sk-top-container\"><div class=\"sk-text-repr-fallback\"><pre>SVC(cache_size=100.0)</pre><b>In a Jupyter environment, please rerun this cell to show the HTML representation or trust the notebook. <br />On GitHub, the HTML representation is unable to render, please try loading this page with nbviewer.org.</b></div><div class=\"sk-container\" hidden><div class=\"sk-item\"><div class=\"sk-estimator sk-toggleable\"><input class=\"sk-toggleable__control sk-hidden--visually\" id=\"sk-estimator-id-3\" type=\"checkbox\" checked><label for=\"sk-estimator-id-3\" class=\"sk-toggleable__label sk-toggleable__label-arrow\">SVC</label><div class=\"sk-toggleable__content\"><pre>SVC(cache_size=100.0)</pre></div></div></div></div></div>"
      ],
      "text/plain": [
       "SVC(cache_size=100.0)"
      ]
     },
     "execution_count": 35,
     "metadata": {},
     "output_type": "execute_result"
    }
   ],
   "source": [
    "svm = SVC(C=1.0, cache_size=100.0)\n",
    "svm.fit(x_train, y_train)\n"
   ]
  },
  {
   "cell_type": "code",
   "execution_count": 36,
   "id": "e2667cf2-d55e-4142-842e-bf66574be159",
   "metadata": {},
   "outputs": [
    {
     "name": "stdout",
     "output_type": "stream",
     "text": [
      "Training Score: 0.9013696665471496\n"
     ]
    }
   ],
   "source": [
    "train_score_svm = svm.score(x_train, y_train)\n",
    "print(\"Training Score:\", train_score_svm)"
   ]
  },
  {
   "cell_type": "code",
   "execution_count": 37,
   "id": "ec859c48-e136-468f-9807-8bd809bb3f78",
   "metadata": {},
   "outputs": [
    {
     "name": "stdout",
     "output_type": "stream",
     "text": [
      "Test Score: 0.9018505504802061\n"
     ]
    }
   ],
   "source": [
    "test_score_svm = svm.score(x_test, y_test)\n",
    "print(\"Test Score:\", test_score_svm)"
   ]
  },
  {
   "cell_type": "markdown",
   "id": "28143b13-0f08-422c-9c84-b8431b572087",
   "metadata": {},
   "source": [
    "# Ensembling The Models"
   ]
  },
  {
   "cell_type": "code",
   "execution_count": 38,
   "id": "8a40fdc6-c6cb-4ae9-9821-fd6e76a5c147",
   "metadata": {},
   "outputs": [
    {
     "name": "stdout",
     "output_type": "stream",
     "text": [
      "Accuracy Score : 0.9026536826958471\n",
      "Precision Score : 0.9026657228688783\n",
      "F1 Score Score : 0.9026520513981455\n"
     ]
    }
   ],
   "source": [
    "from sklearn.ensemble import VotingClassifier\n",
    "from sklearnex.ensemble import RandomForestClassifier\n",
    "from sklearnex.svm import SVC\n",
    "from sklearn.metrics import accuracy_score, precision_score, f1_score\n",
    "from sklearn.metrics import precision_recall_curve , confusion_matrix , classification_report , roc_curve , auc\n",
    "\n",
    "# Initialize individual classifiers\n",
    "rfc_algo = RandomForestClassifier(n_estimators=100, max_depth=5)\n",
    "svm_algo = SVC(C=1.0, cache_size=200.0)\n",
    "\n",
    "# Create an ensemble of classifiers\n",
    "ensemble_model = VotingClassifier([('random_forest', rfc_algo), ('svm', svm_algo)], voting='hard')\n",
    "\n",
    "# Fit the ensemble model on the training data\n",
    "ensemble_model.fit(x_train, y_train)\n",
    "\n",
    "# Predict labels for testing data\n",
    "predicted_labels_test = ensemble_model.predict(x_test)\n",
    "\n",
    "# Calculate accuracy, precision, and F1 score for testing data\n",
    "accuracy_test = accuracy_score(y_test, predicted_labels_test)\n",
    "precision_test = precision_score(y_test, predicted_labels_test, average='weighted')\n",
    "f1_test = f1_score(y_test, predicted_labels_test, average='weighted')\n",
    "\n",
    "print(\"Accuracy Score :\", accuracy_test)\n",
    "print(\"Precision Score :\", precision_test)\n",
    "print(\"F1 Score Score :\", f1_test)"
   ]
  },
  {
   "cell_type": "markdown",
   "id": "c6a15559-f32b-4e91-934a-b6964d9c9ed5",
   "metadata": {},
   "source": [
    "# Output\n"
   ]
  },
  {
   "cell_type": "code",
   "execution_count": 39,
   "id": "ffb3339e-aed3-4ad2-84fb-94d3b36032c2",
   "metadata": {},
   "outputs": [
    {
     "name": "stdout",
     "output_type": "stream",
     "text": [
      "Confusion Matrix:\n",
      " [[13573  1411]\n",
      " [ 1498 13401]]\n",
      "Classification Report:\n",
      "               precision    recall  f1-score   support\n",
      "\n",
      "           0       0.90      0.91      0.90     14984\n",
      "           1       0.90      0.90      0.90     14899\n",
      "\n",
      "    accuracy                           0.90     29883\n",
      "   macro avg       0.90      0.90      0.90     29883\n",
      "weighted avg       0.90      0.90      0.90     29883\n",
      "\n"
     ]
    }
   ],
   "source": [
    "import numpy as np\n",
    "# Confusion Matrix\n",
    "conf_matrix = confusion_matrix(y_test, predicted_labels_test)\n",
    "print(\"Confusion Matrix:\\n\", conf_matrix)\n",
    "\n",
    "# Classification Report\n",
    "class_report = classification_report(y_test, predicted_labels_test)\n",
    "print(\"Classification Report:\\n\", class_report)\n",
    "\n",
    "# Get unique classes from y_test\n",
    "classes = np.unique(y_test)"
   ]
  },
  {
   "cell_type": "code",
   "execution_count": 40,
   "id": "8fbd25e2-960b-4d9f-9f88-e3082dd43797",
   "metadata": {},
   "outputs": [
    {
     "name": "stderr",
     "output_type": "stream",
     "text": [
      "/home/u219212/tmp/ipykernel_1747379/2140220738.py:12: FutureWarning: Series.ravel is deprecated. The underlying array is already 1D, so ravel is not necessary.  Use `to_numpy()` for conversion to a numpy array instead.\n",
      "  fpr[\"micro\"], tpr[\"micro\"], _ = roc_curve(y_test.ravel(), predicted_labels_test.ravel())\n"
     ]
    },
    {
     "data": {
      "image/png": "[encoded data removed]",
      "text/plain": [
       "<Figure size 640x480 with 1 Axes>"
      ]
     },
     "metadata": {},
     "output_type": "display_data"
    }
   ],
   "source": [
    "# Compute ROC curve and AUC for each class\n",
    "import matplotlib.pyplot as plt\n",
    "\n",
    "fpr = dict()\n",
    "tpr = dict()\n",
    "roc_auc = dict()\n",
    "for i in range(len(classes)):\n",
    "    fpr[i], tpr[i], _ = roc_curve(y_test==classes[i], predicted_labels_test==classes[i])\n",
    "    roc_auc[i] = auc(fpr[i], tpr[i])\n",
    "\n",
    "# Compute micro-average ROC curve and ROC area\n",
    "fpr[\"micro\"], tpr[\"micro\"], _ = roc_curve(y_test.ravel(), predicted_labels_test.ravel())\n",
    "roc_auc[\"micro\"] = auc(fpr[\"micro\"], tpr[\"micro\"])\n",
    "\n",
    "# Plot ROC curve\n",
    "plt.figure()\n",
    "plt.plot(fpr[\"micro\"], tpr[\"micro\"], label='micro-average ROC curve (area = {0:0.2f})'.format(roc_auc[\"micro\"]))\n",
    "plt.xlabel('False Positive Rate')\n",
    "plt.ylabel('True Positive Rate')\n",
    "plt.title('ROC Curve')\n",
    "plt.legend(loc='best')\n",
    "plt.show()"
   ]
  },
  {
   "cell_type": "code",
   "execution_count": 41,
   "id": "b6323ddf-2cf2-4859-985e-bf2ba1f97320",
   "metadata": {},
   "outputs": [
    {
     "data": {
      "image/png": "[encoded data removed]",
      "text/plain": [
       "<Figure size 640x480 with 1 Axes>"
      ]
     },
     "metadata": {},
     "output_type": "display_data"
    },
    {
     "name": "stdout",
     "output_type": "stream",
     "text": [
      "Average Precision Score: 0.8639024250213386\n"
     ]
    }
   ],
   "source": [
    "from sklearn.metrics import precision_recall_curve, average_precision_score\n",
    "import matplotlib.pyplot as plt\n",
    "\n",
    "# Precision-Recall Curve\n",
    "precision, recall, _ = precision_recall_curve(y_test, predicted_labels_test)\n",
    "plt.plot(recall, precision, marker='.')\n",
    "plt.xlabel('Recall')\n",
    "plt.ylabel('Precision')\n",
    "plt.title('Precision-Recall Curve')\n",
    "plt.show()\n",
    "\n",
    "# Average Precision Score\n",
    "avg_precision = average_precision_score(y_test, predicted_labels_test)\n",
    "print(\"Average Precision Score:\", avg_precision)\n"
   ]
  },
  {
   "cell_type": "markdown",
   "id": "88a8123e-a5b8-4467-b0a4-c6d6e0c88250",
   "metadata": {},
   "source": [
    "<h1>Saving the model</h1>"
   ]
  },
  {
   "cell_type": "code",
   "execution_count": 42,
   "id": "b624d07b-7e60-4294-9e4e-dd6ed089ad15",
   "metadata": {},
   "outputs": [],
   "source": [
    "import pickle\n",
    "\n",
    "model = {\"model\": ensemble_model}\n",
    "with open('ensemble_model.pkl', 'wb') as file:\n",
    "    pickle.dump(model, file)"
   ]
  },
  {
   "cell_type": "code",
   "execution_count": 43,
   "id": "79b3f2bf-6248-40aa-a65e-2e24461d2426",
   "metadata": {},
   "outputs": [],
   "source": [
    "with open('ensemble_model.pkl', 'rb') as file:\n",
    "    model = pickle.load(file)\n",
    "\n",
    "out_loaded = model[\"model\"]"
   ]
  },
  {
   "cell_type": "code",
   "execution_count": 44,
   "id": "2cc2631d-aa3e-459d-8cd0-61dee98ce3c9",
   "metadata": {},
   "outputs": [],
   "source": [
    "import numpy as np\n",
    "x_new = np.array([305.136748, 1007.668578, 77, 81, 954.3722462, 1021.889085, 10.4803795, 3.799810099, 66.02177058, 2.891290829])\n",
    "x_new = x_new.reshape(1,-1)\n"
   ]
  },
  {
   "cell_type": "code",
   "execution_count": 45,
   "id": "dac3ec32-123d-4049-9259-76e7a34208f4",
   "metadata": {},
   "outputs": [
    {
     "data": {
      "text/plain": [
       "array([1])"
      ]
     },
     "execution_count": 45,
     "metadata": {},
     "output_type": "execute_result"
    }
   ],
   "source": [
    "y_pred = out_loaded.predict(x_new)\n",
    "y_pred"
   ]
  },
  {
   "cell_type": "markdown",
   "id": "a7e50af2-0a2f-4aeb-91c4-5412c9817ee7",
   "metadata": {},
   "source": [
    "<h1>Real Time Prediction</h1>"
   ]
  },
  {
   "cell_type": "markdown",
   "id": "bf4e50b3-f404-496e-bc51-678e28be5889",
   "metadata": {},
   "source": [
    "<h2>Example 1</h2>"
   ]
  },
  {
   "cell_type": "code",
   "execution_count": 46,
   "id": "b02bba33-403a-41f9-928f-166cf757068e",
   "metadata": {},
   "outputs": [],
   "source": [
    "import requests\n",
    "\n",
    "# Replace 'YOUR_API_KEY' with your actual API key obtained from OpenWeatherMap\n",
    "API_KEY = 'a17ce8e6ea9e850661a216012b7103b2'"
   ]
  },
  {
   "cell_type": "code",
   "execution_count": 47,
   "id": "dcc26558-4e10-40a3-a011-abfd3bf6f0ce",
   "metadata": {},
   "outputs": [
    {
     "name": "stdout",
     "output_type": "stream",
     "text": [
      "Weather Features Array: [310.38, 1015, 20, 20, 970, 1000, 6.0, 3.09, 66.0, 2.8]\n"
     ]
    }
   ],
   "source": [
    "# API endpoint for current weather data by city name\n",
    "url = f'http://api.openweathermap.org/data/2.5/weather?q=HYDERABAD&appid={API_KEY}'\n",
    "\n",
    "# Send GET request to OpenWeatherMap API\n",
    "response = requests.get(url)\n",
    "\n",
    "# Check if request was successful (status code 200)\n",
    "if response.status_code == 200:\n",
    "    # Parse JSON response\n",
    "    weather_data = response.json()\n",
    "\n",
    "    # Extracting required weather features\n",
    "    temperature_kelvin = weather_data['main']['temp']\n",
    "    pressure_hPa = weather_data['main']['pressure']\n",
    "    humidity_percent = weather_data['main']['humidity']\n",
    "    cloudiness_percent = weather_data['clouds']['all']\n",
    "    sea_level_hPa = weather_data['main'].get('sea_level', 970)\n",
    "    grnd_level_hPa = weather_data['main'].get('grnd_level', 1000)\n",
    "    visibility_km = weather_data.get('visibility', 'N/A') / 1000  # Converting meters to kilometers\n",
    "    wind_speed_ms = weather_data['wind'].get('speed', 'N/A')\n",
    "    rain_volume_mm = weather_data['rain'].get('1h', 'N/A') if 'rain' in weather_data else 66.0\n",
    "    snow_volume_mm = weather_data['snow'].get('1h', 'N/A') if 'snow' in weather_data else 2.8\n",
    "\n",
    "    # Store the values in an array\n",
    "    weather_features = [temperature_kelvin, pressure_hPa, humidity_percent, cloudiness_percent,\n",
    "                        sea_level_hPa, grnd_level_hPa, visibility_km, wind_speed_ms,\n",
    "                        rain_volume_mm, snow_volume_mm]\n",
    "    print(\"Weather Features Array:\", weather_features)\n",
    "else:\n",
    "    print(\"Error:\", response.status_code)\n"
   ]
  },
  {
   "cell_type": "code",
   "execution_count": 48,
   "id": "27a3497b-fa54-49ae-8ed1-b1c731cca71c",
   "metadata": {},
   "outputs": [
    {
     "data": {
      "text/plain": [
       "array([1])"
      ]
     },
     "execution_count": 48,
     "metadata": {},
     "output_type": "execute_result"
    }
   ],
   "source": [
    "Weather_Features = [309.38, 1016, 23, 20, 970, 1000, 6.0, 3.09, 66.0, 2.8]\n",
    "import numpy as np\n",
    "x_new = np.array(Weather_Features)\n",
    "x_new = x_new.reshape(1,-1)\n",
    "y_pred = out_loaded.predict(x_new)\n",
    "y_pred"
   ]
  },
  {
   "cell_type": "markdown",
   "id": "0bf78f39-7b9a-49bb-880d-15aced66de55",
   "metadata": {},
   "source": [
    "<h2>Example 2</h2>"
   ]
  },
  {
   "cell_type": "code",
   "execution_count": 49,
   "id": "b7a11705-d84d-4edd-8c1a-ef723ebfcc55",
   "metadata": {},
   "outputs": [
    {
     "name": "stdout",
     "output_type": "stream",
     "text": [
      "Weather Features Array: [289.26, 1018, 51, 9, 1018, 847, 10.0, 0.46, 66.0, 2.8]\n"
     ]
    }
   ],
   "source": [
    "# API endpoint for current weather data by city name\n",
    "url = f'http://api.openweathermap.org/data/2.5/weather?q=Srinagar&appid={API_KEY}'\n",
    "\n",
    "# Send GET request to OpenWeatherMap API\n",
    "response = requests.get(url)\n",
    "\n",
    "# Check if request was successful (status code 200)\n",
    "if response.status_code == 200:\n",
    "    # Parse JSON response\n",
    "    weather_data = response.json()\n",
    "\n",
    "    # Extracting required weather features\n",
    "    temperature_kelvin = weather_data['main']['temp']\n",
    "    pressure_hPa = weather_data['main']['pressure']\n",
    "    humidity_percent = weather_data['main']['humidity']\n",
    "    cloudiness_percent = weather_data['clouds']['all']\n",
    "    sea_level_hPa = weather_data['main'].get('sea_level', 970)\n",
    "    grnd_level_hPa = weather_data['main'].get('grnd_level', 1000)\n",
    "    visibility_km = weather_data.get('visibility', 'N/A') / 1000  # Converting meters to kilometers\n",
    "    wind_speed_ms = weather_data['wind'].get('speed', 'N/A')\n",
    "    rain_volume_mm = weather_data['rain'].get('1h', 'N/A') if 'rain' in weather_data else 66.0\n",
    "    snow_volume_mm = weather_data['snow'].get('1h', 'N/A') if 'snow' in weather_data else 2.8\n",
    "\n",
    "    # Store the values in an array\n",
    "    weather_features = [temperature_kelvin, pressure_hPa, humidity_percent, cloudiness_percent,\n",
    "                        sea_level_hPa, grnd_level_hPa, visibility_km, wind_speed_ms,\n",
    "                        rain_volume_mm, snow_volume_mm]\n",
    "    print(\"Weather Features Array:\", weather_features)\n",
    "else:\n",
    "    print(\"Error:\", response.status_code)\n"
   ]
  },
  {
   "cell_type": "code",
   "execution_count": 50,
   "id": "3ece8fe5-d3ff-438f-b1bd-b8ae3587d1dd",
   "metadata": {},
   "outputs": [],
   "source": [
    "import numpy as np\n",
    "x_new = np.array([287.4362011,\t981.7425945,\t30,\t90,\t983.9889177,\t997.6414,\t22.89360378,\t37.33649892,\t26.85563639,\t3.764864159])\n",
    "x_new = x_new.reshape(1,-1)"
   ]
  },
  {
   "cell_type": "code",
   "execution_count": 51,
   "id": "6cf8b93f-8e3f-4515-a156-05ca39477fa1",
   "metadata": {},
   "outputs": [
    {
     "data": {
      "text/plain": [
       "array([0])"
      ]
     },
     "execution_count": 51,
     "metadata": {},
     "output_type": "execute_result"
    }
   ],
   "source": [
    "y_pred = out_loaded.predict(x_new)\n",
    "y_pred"
   ]
  }
 ],
 "metadata": {
  "kernelspec": {
   "display_name": "Python 3 (Intel® oneAPI 2024)",
   "language": "python",
   "name": "c009-intel_distribution_of_python_3_oneapi-beta05-python-2024"
  },
  "language_info": {
   "codemirror_mode": {
    "name": "ipython",
    "version": 3
   },
   "file_extension": ".py",
   "mimetype": "text/x-python",
   "name": "python",
   "nbconvert_exporter": "python",
   "pygments_lexer": "ipython3",
   "version": "3.9.18"
  }
 },
 "nbformat": 4,
 "nbformat_minor": 5
}
